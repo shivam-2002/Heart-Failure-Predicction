{
 "cells": [
  {
   "cell_type": "markdown",
   "metadata": {
    "id": "8X0nTph6yskx"
   },
   "source": [
    "\n",
    "<html>\n",
    "    <h1 style=\"text-align:center;background-color:#fdabce;font-size='150px';text-shadow:5px 5px 5px 5px\"> Heart Disease Prediction</h1>\n",
    "    \n",
    "</html>\n",
    "    \n",
    "        "
   ]
  },
  {
   "cell_type": "markdown",
   "metadata": {
    "id": "9QukNCcbyskz"
   },
   "source": [
    "\n",
    "<html>\n",
    "    <h1 style=\"text-align:center;background-color:#abcdef;font-size='150px';\"> TABLE OF CONTENTS</h1>\n",
    "    <ol>\n",
    "        <li>Import Necessary Library  </li>\n",
    "        <li>Data </li>\n",
    "        <li>Data Dictionary</li>\n",
    "        <li>Preprocessing  </li>\n",
    "        <li>Exploratory Data Analysis  </li>\n",
    "        <li>Feature Engineering  </li>\n",
    "        <li>Train Model  </li>\n",
    "        <li>Model Accuracy  </li>\n",
    "        <li>Test  Model</li>\n",
    "        \n",
    "    </ol>\n",
    "    \n",
    "</html>\n",
    "    \n",
    "        "
   ]
  },
  {
   "cell_type": "markdown",
   "metadata": {
    "id": "uushCjOpysk0"
   },
   "source": [
    "##  Import Necessary Library"
   ]
  },
  {
   "cell_type": "code",
   "execution_count": 57,
   "metadata": {
    "id": "jGib8-aYysk1"
   },
   "outputs": [],
   "source": [
    "import pandas as pd\n",
    "import numpy as np\n",
    "import matplotlib.pyplot as plt\n",
    "import seaborn as sns\n",
    "from sklearn.metrics import accuracy_score,classification_report, confusion_matrix\n",
    "from sklearn.preprocessing import OneHotEncoder,StandardScaler,LabelEncoder\n",
    "from sklearn.model_selection import train_test_split\n",
    "from sklearn.linear_model import LogisticRegression, RidgeClassifier\n",
    "from sklearn.tree import DecisionTreeClassifier\n",
    "from sklearn.ensemble import RandomForestClassifier, AdaBoostClassifier, GradientBoostingClassifier\n",
    "from sklearn.neighbors import KNeighborsClassifier\n",
    "from sklearn.svm import SVC\n",
    "from xgboost import XGBClassifier\n"
   ]
  },
  {
   "cell_type": "markdown",
   "metadata": {
    "id": "cArEvHIyysk3"
   },
   "source": [
    "##  Data "
   ]
  },
  {
   "cell_type": "code",
   "execution_count": 10,
   "metadata": {
    "colab": {
     "base_uri": "https://localhost:8080/",
     "height": 206
    },
    "id": "XuTEqyjvysk3",
    "outputId": "fa62b6fc-c3be-4fec-9001-58e03ebb011a",
    "scrolled": true
   },
   "outputs": [
    {
     "data": {
      "text/html": [
       "<div>\n",
       "<style scoped>\n",
       "    .dataframe tbody tr th:only-of-type {\n",
       "        vertical-align: middle;\n",
       "    }\n",
       "\n",
       "    .dataframe tbody tr th {\n",
       "        vertical-align: top;\n",
       "    }\n",
       "\n",
       "    .dataframe thead th {\n",
       "        text-align: right;\n",
       "    }\n",
       "</style>\n",
       "<table border=\"1\" class=\"dataframe\">\n",
       "  <thead>\n",
       "    <tr style=\"text-align: right;\">\n",
       "      <th></th>\n",
       "      <th>Age</th>\n",
       "      <th>Sex</th>\n",
       "      <th>ChestPainType</th>\n",
       "      <th>RestingBP</th>\n",
       "      <th>Cholesterol</th>\n",
       "      <th>FastingBS</th>\n",
       "      <th>RestingECG</th>\n",
       "      <th>MaxHR</th>\n",
       "      <th>ExerciseAngina</th>\n",
       "      <th>Oldpeak</th>\n",
       "      <th>ST_Slope</th>\n",
       "      <th>HeartDisease</th>\n",
       "    </tr>\n",
       "  </thead>\n",
       "  <tbody>\n",
       "    <tr>\n",
       "      <th>0</th>\n",
       "      <td>40</td>\n",
       "      <td>M</td>\n",
       "      <td>ATA</td>\n",
       "      <td>140</td>\n",
       "      <td>289</td>\n",
       "      <td>0</td>\n",
       "      <td>Normal</td>\n",
       "      <td>172</td>\n",
       "      <td>N</td>\n",
       "      <td>0.0</td>\n",
       "      <td>Up</td>\n",
       "      <td>0</td>\n",
       "    </tr>\n",
       "    <tr>\n",
       "      <th>1</th>\n",
       "      <td>49</td>\n",
       "      <td>F</td>\n",
       "      <td>NAP</td>\n",
       "      <td>160</td>\n",
       "      <td>180</td>\n",
       "      <td>0</td>\n",
       "      <td>Normal</td>\n",
       "      <td>156</td>\n",
       "      <td>N</td>\n",
       "      <td>1.0</td>\n",
       "      <td>Flat</td>\n",
       "      <td>1</td>\n",
       "    </tr>\n",
       "    <tr>\n",
       "      <th>2</th>\n",
       "      <td>37</td>\n",
       "      <td>M</td>\n",
       "      <td>ATA</td>\n",
       "      <td>130</td>\n",
       "      <td>283</td>\n",
       "      <td>0</td>\n",
       "      <td>ST</td>\n",
       "      <td>98</td>\n",
       "      <td>N</td>\n",
       "      <td>0.0</td>\n",
       "      <td>Up</td>\n",
       "      <td>0</td>\n",
       "    </tr>\n",
       "    <tr>\n",
       "      <th>3</th>\n",
       "      <td>48</td>\n",
       "      <td>F</td>\n",
       "      <td>ASY</td>\n",
       "      <td>138</td>\n",
       "      <td>214</td>\n",
       "      <td>0</td>\n",
       "      <td>Normal</td>\n",
       "      <td>108</td>\n",
       "      <td>Y</td>\n",
       "      <td>1.5</td>\n",
       "      <td>Flat</td>\n",
       "      <td>1</td>\n",
       "    </tr>\n",
       "    <tr>\n",
       "      <th>4</th>\n",
       "      <td>54</td>\n",
       "      <td>M</td>\n",
       "      <td>NAP</td>\n",
       "      <td>150</td>\n",
       "      <td>195</td>\n",
       "      <td>0</td>\n",
       "      <td>Normal</td>\n",
       "      <td>122</td>\n",
       "      <td>N</td>\n",
       "      <td>0.0</td>\n",
       "      <td>Up</td>\n",
       "      <td>0</td>\n",
       "    </tr>\n",
       "  </tbody>\n",
       "</table>\n",
       "</div>"
      ],
      "text/plain": [
       "   Age Sex ChestPainType  RestingBP  Cholesterol  FastingBS RestingECG  MaxHR  \\\n",
       "0   40   M           ATA        140          289          0     Normal    172   \n",
       "1   49   F           NAP        160          180          0     Normal    156   \n",
       "2   37   M           ATA        130          283          0         ST     98   \n",
       "3   48   F           ASY        138          214          0     Normal    108   \n",
       "4   54   M           NAP        150          195          0     Normal    122   \n",
       "\n",
       "  ExerciseAngina  Oldpeak ST_Slope  HeartDisease  \n",
       "0              N      0.0       Up             0  \n",
       "1              N      1.0     Flat             1  \n",
       "2              N      0.0       Up             0  \n",
       "3              Y      1.5     Flat             1  \n",
       "4              N      0.0       Up             0  "
      ]
     },
     "execution_count": 10,
     "metadata": {},
     "output_type": "execute_result"
    }
   ],
   "source": [
    "#df=pd.read_csv('heart.csv')\n",
    "#df.head()\n",
    "URL = 'https://drive.google.com/file/d/1Yt7Kr9tbitUscefZdk-5Gt2YN_QQKVmW/view?usp=sharing'\n",
    "path = 'https://drive.google.com/uc?export=download&id='+URL.split('/')[-2]\n",
    "df = pd.read_csv(path)\n",
    "df.head()"
   ]
  },
  {
   "cell_type": "code",
   "execution_count": 11,
   "metadata": {
    "id": "VpOzSbU7ysk4"
   },
   "outputs": [
    {
     "name": "stdout",
     "output_type": "stream",
     "text": [
      "Shape of Data Frame:  (918, 12)\n"
     ]
    }
   ],
   "source": [
    "print('Shape of Data Frame: ',df.shape)"
   ]
  },
  {
   "cell_type": "code",
   "execution_count": 12,
   "metadata": {
    "id": "YrGLWg_Gysk5"
   },
   "outputs": [
    {
     "name": "stdout",
     "output_type": "stream",
     "text": [
      "<class 'pandas.core.frame.DataFrame'>\n",
      "RangeIndex: 918 entries, 0 to 917\n",
      "Data columns (total 12 columns):\n",
      " #   Column          Non-Null Count  Dtype  \n",
      "---  ------          --------------  -----  \n",
      " 0   Age             918 non-null    int64  \n",
      " 1   Sex             918 non-null    object \n",
      " 2   ChestPainType   918 non-null    object \n",
      " 3   RestingBP       918 non-null    int64  \n",
      " 4   Cholesterol     918 non-null    int64  \n",
      " 5   FastingBS       918 non-null    int64  \n",
      " 6   RestingECG      918 non-null    object \n",
      " 7   MaxHR           918 non-null    int64  \n",
      " 8   ExerciseAngina  918 non-null    object \n",
      " 9   Oldpeak         918 non-null    float64\n",
      " 10  ST_Slope        918 non-null    object \n",
      " 11  HeartDisease    918 non-null    int64  \n",
      "dtypes: float64(1), int64(6), object(5)\n",
      "memory usage: 86.2+ KB\n"
     ]
    }
   ],
   "source": [
    "df.info()"
   ]
  },
  {
   "cell_type": "code",
   "execution_count": 13,
   "metadata": {
    "id": "EwUNbZRHysk5"
   },
   "outputs": [
    {
     "data": {
      "text/html": [
       "<div>\n",
       "<style scoped>\n",
       "    .dataframe tbody tr th:only-of-type {\n",
       "        vertical-align: middle;\n",
       "    }\n",
       "\n",
       "    .dataframe tbody tr th {\n",
       "        vertical-align: top;\n",
       "    }\n",
       "\n",
       "    .dataframe thead th {\n",
       "        text-align: right;\n",
       "    }\n",
       "</style>\n",
       "<table border=\"1\" class=\"dataframe\">\n",
       "  <thead>\n",
       "    <tr style=\"text-align: right;\">\n",
       "      <th></th>\n",
       "      <th>Age</th>\n",
       "      <th>RestingBP</th>\n",
       "      <th>Cholesterol</th>\n",
       "      <th>FastingBS</th>\n",
       "      <th>MaxHR</th>\n",
       "      <th>Oldpeak</th>\n",
       "      <th>HeartDisease</th>\n",
       "    </tr>\n",
       "  </thead>\n",
       "  <tbody>\n",
       "    <tr>\n",
       "      <th>count</th>\n",
       "      <td>918.000000</td>\n",
       "      <td>918.000000</td>\n",
       "      <td>918.000000</td>\n",
       "      <td>918.000000</td>\n",
       "      <td>918.000000</td>\n",
       "      <td>918.000000</td>\n",
       "      <td>918.000000</td>\n",
       "    </tr>\n",
       "    <tr>\n",
       "      <th>mean</th>\n",
       "      <td>53.510893</td>\n",
       "      <td>132.396514</td>\n",
       "      <td>198.799564</td>\n",
       "      <td>0.233115</td>\n",
       "      <td>136.809368</td>\n",
       "      <td>0.887364</td>\n",
       "      <td>0.553377</td>\n",
       "    </tr>\n",
       "    <tr>\n",
       "      <th>std</th>\n",
       "      <td>9.432617</td>\n",
       "      <td>18.514154</td>\n",
       "      <td>109.384145</td>\n",
       "      <td>0.423046</td>\n",
       "      <td>25.460334</td>\n",
       "      <td>1.066570</td>\n",
       "      <td>0.497414</td>\n",
       "    </tr>\n",
       "    <tr>\n",
       "      <th>min</th>\n",
       "      <td>28.000000</td>\n",
       "      <td>0.000000</td>\n",
       "      <td>0.000000</td>\n",
       "      <td>0.000000</td>\n",
       "      <td>60.000000</td>\n",
       "      <td>-2.600000</td>\n",
       "      <td>0.000000</td>\n",
       "    </tr>\n",
       "    <tr>\n",
       "      <th>25%</th>\n",
       "      <td>47.000000</td>\n",
       "      <td>120.000000</td>\n",
       "      <td>173.250000</td>\n",
       "      <td>0.000000</td>\n",
       "      <td>120.000000</td>\n",
       "      <td>0.000000</td>\n",
       "      <td>0.000000</td>\n",
       "    </tr>\n",
       "    <tr>\n",
       "      <th>50%</th>\n",
       "      <td>54.000000</td>\n",
       "      <td>130.000000</td>\n",
       "      <td>223.000000</td>\n",
       "      <td>0.000000</td>\n",
       "      <td>138.000000</td>\n",
       "      <td>0.600000</td>\n",
       "      <td>1.000000</td>\n",
       "    </tr>\n",
       "    <tr>\n",
       "      <th>75%</th>\n",
       "      <td>60.000000</td>\n",
       "      <td>140.000000</td>\n",
       "      <td>267.000000</td>\n",
       "      <td>0.000000</td>\n",
       "      <td>156.000000</td>\n",
       "      <td>1.500000</td>\n",
       "      <td>1.000000</td>\n",
       "    </tr>\n",
       "    <tr>\n",
       "      <th>max</th>\n",
       "      <td>77.000000</td>\n",
       "      <td>200.000000</td>\n",
       "      <td>603.000000</td>\n",
       "      <td>1.000000</td>\n",
       "      <td>202.000000</td>\n",
       "      <td>6.200000</td>\n",
       "      <td>1.000000</td>\n",
       "    </tr>\n",
       "  </tbody>\n",
       "</table>\n",
       "</div>"
      ],
      "text/plain": [
       "              Age   RestingBP  Cholesterol   FastingBS       MaxHR  \\\n",
       "count  918.000000  918.000000   918.000000  918.000000  918.000000   \n",
       "mean    53.510893  132.396514   198.799564    0.233115  136.809368   \n",
       "std      9.432617   18.514154   109.384145    0.423046   25.460334   \n",
       "min     28.000000    0.000000     0.000000    0.000000   60.000000   \n",
       "25%     47.000000  120.000000   173.250000    0.000000  120.000000   \n",
       "50%     54.000000  130.000000   223.000000    0.000000  138.000000   \n",
       "75%     60.000000  140.000000   267.000000    0.000000  156.000000   \n",
       "max     77.000000  200.000000   603.000000    1.000000  202.000000   \n",
       "\n",
       "          Oldpeak  HeartDisease  \n",
       "count  918.000000    918.000000  \n",
       "mean     0.887364      0.553377  \n",
       "std      1.066570      0.497414  \n",
       "min     -2.600000      0.000000  \n",
       "25%      0.000000      0.000000  \n",
       "50%      0.600000      1.000000  \n",
       "75%      1.500000      1.000000  \n",
       "max      6.200000      1.000000  "
      ]
     },
     "execution_count": 13,
     "metadata": {},
     "output_type": "execute_result"
    }
   ],
   "source": [
    "df.describe()"
   ]
  },
  {
   "cell_type": "markdown",
   "metadata": {
    "id": "JScS6ijd0rqR"
   },
   "source": [
    "## Data Dictionary"
   ]
  },
  {
   "cell_type": "code",
   "execution_count": null,
   "metadata": {
    "id": "TdCBQLQ703iI"
   },
   "outputs": [],
   "source": [
    "1) Age: Age of the patient [years]\n",
    "2) Sex: Sex of the patient [M: Male, F: Female]\n",
    "3) ChestPainType: [TA: Typical Angina, ATA: Atypical Angina, NAP: Non-Anginal Pain, ASY: Asymptomatic]\n",
    "4) RestingBP: Resting blood pressure [mm Hg]\n",
    "5) Cholesterol: Serum cholesterol [mm/dl]\n",
    "6) FastingBS: Fasting blood sugar [1: if FastingBS > 120 mg/dl, 0: otherwise]\n",
    "7) RestingECG: Resting electrocardiogram results [Normal: Normal, ST: having ST-T wave abnormality (T wave inversions and/or ST elevation or depression of > 0.05 mV), LVH: showing probable or definite left ventricular hypertrophy by Estes' criteria]\n",
    "8) MaxHR: Maximum heart rate achieved [Numeric value between 60 and 202]\n",
    "9) ExerciseAngina: Exercise-induced angina [Y: Yes, N: No]\n",
    "10) Oldpeak: ST [Numeric value measured in depression]\n",
    "11) ST_Slope: The slope of the peak exercise ST segment [Up: upsloping, Flat: flat, Down: downsloping]\n",
    "12) HeartDisease: Output class [1: there is a chance of heart failure, 0: Normal]\n"
   ]
  },
  {
   "cell_type": "markdown",
   "metadata": {
    "id": "ROgmKRToysk5"
   },
   "source": [
    "## Preprocessing"
   ]
  },
  {
   "cell_type": "code",
   "execution_count": 14,
   "metadata": {
    "id": "6FvUsvpAysk6"
   },
   "outputs": [
    {
     "data": {
      "text/plain": [
       "Age               0\n",
       "Sex               0\n",
       "ChestPainType     0\n",
       "RestingBP         0\n",
       "Cholesterol       0\n",
       "FastingBS         0\n",
       "RestingECG        0\n",
       "MaxHR             0\n",
       "ExerciseAngina    0\n",
       "Oldpeak           0\n",
       "ST_Slope          0\n",
       "HeartDisease      0\n",
       "dtype: int64"
      ]
     },
     "execution_count": 14,
     "metadata": {},
     "output_type": "execute_result"
    }
   ],
   "source": [
    "df.isna().sum()"
   ]
  },
  {
   "cell_type": "code",
   "execution_count": 15,
   "metadata": {
    "id": "bwrjgJXWysk6"
   },
   "outputs": [
    {
     "data": {
      "text/plain": [
       "0"
      ]
     },
     "execution_count": 15,
     "metadata": {},
     "output_type": "execute_result"
    }
   ],
   "source": [
    "df.duplicated().sum()"
   ]
  },
  {
   "cell_type": "markdown",
   "metadata": {
    "id": "r4tHepaLysk6"
   },
   "source": [
    "##  Exploratory Data Analysis"
   ]
  },
  {
   "cell_type": "code",
   "execution_count": null,
   "metadata": {
    "id": "vVoswTe7ysk7"
   },
   "outputs": [],
   "source": [
    "df.describe()"
   ]
  },
  {
   "cell_type": "code",
   "execution_count": 16,
   "metadata": {
    "id": "VRqjFs6Yysk7"
   },
   "outputs": [
    {
     "data": {
      "text/html": [
       "<div>\n",
       "<style scoped>\n",
       "    .dataframe tbody tr th:only-of-type {\n",
       "        vertical-align: middle;\n",
       "    }\n",
       "\n",
       "    .dataframe tbody tr th {\n",
       "        vertical-align: top;\n",
       "    }\n",
       "\n",
       "    .dataframe thead th {\n",
       "        text-align: right;\n",
       "    }\n",
       "</style>\n",
       "<table border=\"1\" class=\"dataframe\">\n",
       "  <thead>\n",
       "    <tr style=\"text-align: right;\">\n",
       "      <th></th>\n",
       "      <th>Age</th>\n",
       "      <th>RestingBP</th>\n",
       "      <th>Cholesterol</th>\n",
       "      <th>FastingBS</th>\n",
       "      <th>MaxHR</th>\n",
       "      <th>Oldpeak</th>\n",
       "      <th>HeartDisease</th>\n",
       "    </tr>\n",
       "  </thead>\n",
       "  <tbody>\n",
       "    <tr>\n",
       "      <th>Age</th>\n",
       "      <td>1.000000</td>\n",
       "      <td>0.254399</td>\n",
       "      <td>-0.095282</td>\n",
       "      <td>0.198039</td>\n",
       "      <td>-0.382045</td>\n",
       "      <td>0.258612</td>\n",
       "      <td>0.282039</td>\n",
       "    </tr>\n",
       "    <tr>\n",
       "      <th>RestingBP</th>\n",
       "      <td>0.254399</td>\n",
       "      <td>1.000000</td>\n",
       "      <td>0.100893</td>\n",
       "      <td>0.070193</td>\n",
       "      <td>-0.112135</td>\n",
       "      <td>0.164803</td>\n",
       "      <td>0.107589</td>\n",
       "    </tr>\n",
       "    <tr>\n",
       "      <th>Cholesterol</th>\n",
       "      <td>-0.095282</td>\n",
       "      <td>0.100893</td>\n",
       "      <td>1.000000</td>\n",
       "      <td>-0.260974</td>\n",
       "      <td>0.235792</td>\n",
       "      <td>0.050148</td>\n",
       "      <td>-0.232741</td>\n",
       "    </tr>\n",
       "    <tr>\n",
       "      <th>FastingBS</th>\n",
       "      <td>0.198039</td>\n",
       "      <td>0.070193</td>\n",
       "      <td>-0.260974</td>\n",
       "      <td>1.000000</td>\n",
       "      <td>-0.131438</td>\n",
       "      <td>0.052698</td>\n",
       "      <td>0.267291</td>\n",
       "    </tr>\n",
       "    <tr>\n",
       "      <th>MaxHR</th>\n",
       "      <td>-0.382045</td>\n",
       "      <td>-0.112135</td>\n",
       "      <td>0.235792</td>\n",
       "      <td>-0.131438</td>\n",
       "      <td>1.000000</td>\n",
       "      <td>-0.160691</td>\n",
       "      <td>-0.400421</td>\n",
       "    </tr>\n",
       "    <tr>\n",
       "      <th>Oldpeak</th>\n",
       "      <td>0.258612</td>\n",
       "      <td>0.164803</td>\n",
       "      <td>0.050148</td>\n",
       "      <td>0.052698</td>\n",
       "      <td>-0.160691</td>\n",
       "      <td>1.000000</td>\n",
       "      <td>0.403951</td>\n",
       "    </tr>\n",
       "    <tr>\n",
       "      <th>HeartDisease</th>\n",
       "      <td>0.282039</td>\n",
       "      <td>0.107589</td>\n",
       "      <td>-0.232741</td>\n",
       "      <td>0.267291</td>\n",
       "      <td>-0.400421</td>\n",
       "      <td>0.403951</td>\n",
       "      <td>1.000000</td>\n",
       "    </tr>\n",
       "  </tbody>\n",
       "</table>\n",
       "</div>"
      ],
      "text/plain": [
       "                   Age  RestingBP  Cholesterol  FastingBS     MaxHR   Oldpeak  \\\n",
       "Age           1.000000   0.254399    -0.095282   0.198039 -0.382045  0.258612   \n",
       "RestingBP     0.254399   1.000000     0.100893   0.070193 -0.112135  0.164803   \n",
       "Cholesterol  -0.095282   0.100893     1.000000  -0.260974  0.235792  0.050148   \n",
       "FastingBS     0.198039   0.070193    -0.260974   1.000000 -0.131438  0.052698   \n",
       "MaxHR        -0.382045  -0.112135     0.235792  -0.131438  1.000000 -0.160691   \n",
       "Oldpeak       0.258612   0.164803     0.050148   0.052698 -0.160691  1.000000   \n",
       "HeartDisease  0.282039   0.107589    -0.232741   0.267291 -0.400421  0.403951   \n",
       "\n",
       "              HeartDisease  \n",
       "Age               0.282039  \n",
       "RestingBP         0.107589  \n",
       "Cholesterol      -0.232741  \n",
       "FastingBS         0.267291  \n",
       "MaxHR            -0.400421  \n",
       "Oldpeak           0.403951  \n",
       "HeartDisease      1.000000  "
      ]
     },
     "execution_count": 16,
     "metadata": {},
     "output_type": "execute_result"
    }
   ],
   "source": [
    "df.corr()"
   ]
  },
  {
   "cell_type": "code",
   "execution_count": 77,
   "metadata": {
    "id": "jtC2qA-Zysk7"
   },
   "outputs": [
    {
     "data": {
      "text/plain": [
       "<AxesSubplot:>"
      ]
     },
     "execution_count": 77,
     "metadata": {},
     "output_type": "execute_result"
    },
    {
     "data": {
      "image/png": "[encoded data removed]",
      "text/plain": [
       "<Figure size 1080x720 with 2 Axes>"
      ]
     },
     "metadata": {
      "needs_background": "light"
     },
     "output_type": "display_data"
    }
   ],
   "source": [
    "plt.figure(figsize=(15,10))\n",
    "sns.heatmap(df.corr(),annot=True)"
   ]
  },
  {
   "cell_type": "code",
   "execution_count": 20,
   "metadata": {
    "id": "kU1vZkS8ysk8"
   },
   "outputs": [
    {
     "data": {
      "text/plain": [
       "Age                 int64\n",
       "Sex                object\n",
       "ChestPainType      object\n",
       "RestingBP           int64\n",
       "Cholesterol         int64\n",
       "FastingBS           int64\n",
       "RestingECG         object\n",
       "MaxHR               int64\n",
       "ExerciseAngina     object\n",
       "Oldpeak           float64\n",
       "ST_Slope           object\n",
       "HeartDisease        int64\n",
       "dtype: object"
      ]
     },
     "execution_count": 20,
     "metadata": {},
     "output_type": "execute_result"
    }
   ],
   "source": [
    "df.dtypes"
   ]
  },
  {
   "cell_type": "code",
   "execution_count": 21,
   "metadata": {
    "id": "xCxYh2GMysk8"
   },
   "outputs": [],
   "source": [
    "numerical_column=['Age','RestingBP','Cholesterol','FastingBS','MaxHR','Oldpeak']\n",
    "categorical_column=['Sex','ChestPainType','RestingECG','ExerciseAngina','ST_Slope']"
   ]
  },
  {
   "cell_type": "code",
   "execution_count": 22,
   "metadata": {
    "id": "01vQOmI8ysk8"
   },
   "outputs": [
    {
     "data": {
      "image/png": "[encoded data removed]",
      "text/plain": [
       "<Figure size 432x288 with 1 Axes>"
      ]
     },
     "metadata": {
      "needs_background": "light"
     },
     "output_type": "display_data"
    },
    {
     "data": {
      "image/png": "[encoded data removed]",
      "text/plain": [
       "<Figure size 432x288 with 1 Axes>"
      ]
     },
     "metadata": {
      "needs_background": "light"
     },
     "output_type": "display_data"
    },
    {
     "data": {
      "image/png": "[encoded data removed]",
      "text/plain": [
       "<Figure size 432x288 with 1 Axes>"
      ]
     },
     "metadata": {
      "needs_background": "light"
     },
     "output_type": "display_data"
    },
    {
     "data": {
      "image/png": "[encoded data removed]",
      "text/plain": [
       "<Figure size 432x288 with 1 Axes>"
      ]
     },
     "metadata": {
      "needs_background": "light"
     },
     "output_type": "display_data"
    },
    {
     "data": {
      "image/png": "[encoded data removed]",
      "text/plain": [
       "<Figure size 432x288 with 1 Axes>"
      ]
     },
     "metadata": {
      "needs_background": "light"
     },
     "output_type": "display_data"
    },
    {
     "data": {
      "image/png": "[encoded data removed]",
      "text/plain": [
       "<Figure size 432x288 with 1 Axes>"
      ]
     },
     "metadata": {
      "needs_background": "light"
     },
     "output_type": "display_data"
    }
   ],
   "source": [
    "for i in numerical_column:\n",
    "    plt.xlabel(i)\n",
    "    plt.ylabel('No. of Observation')\n",
    "    plt.hist(df[i])\n",
    "    plt.show()"
   ]
  },
  {
   "cell_type": "code",
   "execution_count": 23,
   "metadata": {
    "id": "JaHGGO9Dysk9"
   },
   "outputs": [
    {
     "data": {
      "text/plain": [
       "<AxesSubplot:xlabel='Age', ylabel='Count'>"
      ]
     },
     "execution_count": 23,
     "metadata": {},
     "output_type": "execute_result"
    },
    {
     "data": {
      "image/png": "[encoded data removed]",
      "text/plain": [
       "<Figure size 432x288 with 1 Axes>"
      ]
     },
     "metadata": {
      "needs_background": "light"
     },
     "output_type": "display_data"
    }
   ],
   "source": [
    "sns.histplot(data=df,x='Age',hue='HeartDisease')"
   ]
  },
  {
   "cell_type": "code",
   "execution_count": 24,
   "metadata": {
    "id": "nT2PV_FVysk9"
   },
   "outputs": [
    {
     "data": {
      "text/plain": [
       "<AxesSubplot:xlabel='RestingBP', ylabel='Count'>"
      ]
     },
     "execution_count": 24,
     "metadata": {},
     "output_type": "execute_result"
    },
    {
     "data": {
      "image/png": "[encoded data removed]",
      "text/plain": [
       "<Figure size 432x288 with 1 Axes>"
      ]
     },
     "metadata": {
      "needs_background": "light"
     },
     "output_type": "display_data"
    }
   ],
   "source": [
    "sns.histplot(data=df,x='RestingBP',hue='HeartDisease')"
   ]
  },
  {
   "cell_type": "code",
   "execution_count": 25,
   "metadata": {
    "id": "OZdQZL2Nysk-"
   },
   "outputs": [
    {
     "data": {
      "text/plain": [
       "<AxesSubplot:xlabel='Cholesterol', ylabel='Count'>"
      ]
     },
     "execution_count": 25,
     "metadata": {},
     "output_type": "execute_result"
    },
    {
     "data": {
      "image/png": "[encoded data removed]",
      "text/plain": [
       "<Figure size 432x288 with 1 Axes>"
      ]
     },
     "metadata": {
      "needs_background": "light"
     },
     "output_type": "display_data"
    }
   ],
   "source": [
    "sns.histplot(data=df,x='Cholesterol',hue='HeartDisease')"
   ]
  },
  {
   "cell_type": "code",
   "execution_count": 26,
   "metadata": {
    "id": "U7k4nMc-ysk-"
   },
   "outputs": [
    {
     "data": {
      "text/plain": [
       "<AxesSubplot:xlabel='FastingBS', ylabel='Count'>"
      ]
     },
     "execution_count": 26,
     "metadata": {},
     "output_type": "execute_result"
    },
    {
     "data": {
      "image/png": "[encoded data removed]",
      "text/plain": [
       "<Figure size 432x288 with 1 Axes>"
      ]
     },
     "metadata": {
      "needs_background": "light"
     },
     "output_type": "display_data"
    }
   ],
   "source": [
    "sns.histplot(data=df,x='FastingBS',hue='HeartDisease')"
   ]
  },
  {
   "cell_type": "code",
   "execution_count": 27,
   "metadata": {
    "id": "YqUzOn9Nysk-"
   },
   "outputs": [
    {
     "data": {
      "text/plain": [
       "<AxesSubplot:xlabel='MaxHR', ylabel='Count'>"
      ]
     },
     "execution_count": 27,
     "metadata": {},
     "output_type": "execute_result"
    },
    {
     "data": {
      "image/png": "[encoded data removed]",
      "text/plain": [
       "<Figure size 432x288 with 1 Axes>"
      ]
     },
     "metadata": {
      "needs_background": "light"
     },
     "output_type": "display_data"
    }
   ],
   "source": [
    "sns.histplot(data=df,x='MaxHR',hue='HeartDisease')"
   ]
  },
  {
   "cell_type": "code",
   "execution_count": 28,
   "metadata": {
    "id": "DcEHSyYVysk_"
   },
   "outputs": [
    {
     "data": {
      "text/plain": [
       "<AxesSubplot:xlabel='Oldpeak', ylabel='Count'>"
      ]
     },
     "execution_count": 28,
     "metadata": {},
     "output_type": "execute_result"
    },
    {
     "data": {
      "image/png": "[encoded data removed]",
      "text/plain": [
       "<Figure size 432x288 with 1 Axes>"
      ]
     },
     "metadata": {
      "needs_background": "light"
     },
     "output_type": "display_data"
    }
   ],
   "source": [
    "sns.histplot(data=df,x='Oldpeak',hue='HeartDisease')"
   ]
  },
  {
   "cell_type": "code",
   "execution_count": 30,
   "metadata": {
    "id": "mwo3vU05ysk_"
   },
   "outputs": [],
   "source": [
    "HaveHeartDisease=df[df['HeartDisease']==1].shape[0]"
   ]
  },
  {
   "cell_type": "code",
   "execution_count": 31,
   "metadata": {
    "id": "uMVo8e6mysk_"
   },
   "outputs": [],
   "source": [
    "NotHaveHeartDisease=df[df['HeartDisease']==0].shape[0]"
   ]
  },
  {
   "cell_type": "code",
   "execution_count": 32,
   "metadata": {
    "id": "hbd0XBrqyslA"
   },
   "outputs": [
    {
     "name": "stdout",
     "output_type": "stream",
     "text": [
      "No. of Patient Having Heart Disease:  508\n",
      "No. of Patient don't Have Heart Disease:  410\n"
     ]
    }
   ],
   "source": [
    "print(\"No. of Patient Having Heart Disease: \",HaveHeartDisease)\n",
    "print(\"No. of Patient don't Have Heart Disease: \",NotHaveHeartDisease)"
   ]
  },
  {
   "cell_type": "code",
   "execution_count": 33,
   "metadata": {
    "id": "xL0IR6GhyslA"
   },
   "outputs": [
    {
     "data": {
      "text/plain": [
       "([<matplotlib.patches.Wedge at 0x175a7a521f0>,\n",
       "  <matplotlib.patches.Wedge at 0x175a7a52910>],\n",
       " [Text(-0.1835941114214546, 1.0845705151124876, '1'),\n",
       "  Text(0.1835941114214547, -1.0845705151124876, '0')],\n",
       " [Text(-0.10014224259352068, 0.5915839173340841, '55.3%'),\n",
       "  Text(0.10014224259352074, -0.5915839173340841, '44.7%')])"
      ]
     },
     "execution_count": 33,
     "metadata": {},
     "output_type": "execute_result"
    },
    {
     "data": {
      "image/png": "[encoded data removed]",
      "text/plain": [
       "<Figure size 432x288 with 1 Axes>"
      ]
     },
     "metadata": {},
     "output_type": "display_data"
    }
   ],
   "source": [
    "plt.pie([HaveHeartDisease,NotHaveHeartDisease],autopct='%1.1f%%',labels=['1','0'])"
   ]
  },
  {
   "cell_type": "markdown",
   "metadata": {
    "id": "4Aq_Yby3yslA"
   },
   "source": [
    "## Working with Categorical Data"
   ]
  },
  {
   "cell_type": "code",
   "execution_count": 34,
   "metadata": {
    "id": "10VSMM8uyslA"
   },
   "outputs": [],
   "source": [
    "categorical_column=['Sex','ChestPainType','RestingECG','ExerciseAngina','ST_Slope']"
   ]
  },
  {
   "cell_type": "code",
   "execution_count": 35,
   "metadata": {
    "id": "rxSkVvcwyslB"
   },
   "outputs": [
    {
     "data": {
      "text/plain": [
       "<AxesSubplot:xlabel='Sex', ylabel='Count'>"
      ]
     },
     "execution_count": 35,
     "metadata": {},
     "output_type": "execute_result"
    },
    {
     "data": {
      "image/png": "[encoded data removed]",
      "text/plain": [
       "<Figure size 432x288 with 1 Axes>"
      ]
     },
     "metadata": {
      "needs_background": "light"
     },
     "output_type": "display_data"
    }
   ],
   "source": [
    "sns.histplot(data=df,x='Sex',hue='HeartDisease')"
   ]
  },
  {
   "cell_type": "code",
   "execution_count": 36,
   "metadata": {
    "id": "TOuMQNvCyslB"
   },
   "outputs": [
    {
     "data": {
      "text/plain": [
       "<AxesSubplot:xlabel='ChestPainType', ylabel='Count'>"
      ]
     },
     "execution_count": 36,
     "metadata": {},
     "output_type": "execute_result"
    },
    {
     "data": {
      "image/png": "[encoded data removed]",
      "text/plain": [
       "<Figure size 432x288 with 1 Axes>"
      ]
     },
     "metadata": {
      "needs_background": "light"
     },
     "output_type": "display_data"
    }
   ],
   "source": [
    "sns.histplot(data=df,x='ChestPainType',hue='HeartDisease')"
   ]
  },
  {
   "cell_type": "code",
   "execution_count": 37,
   "metadata": {
    "id": "J-rVrOAQyslB"
   },
   "outputs": [
    {
     "data": {
      "text/plain": [
       "<AxesSubplot:xlabel='RestingECG', ylabel='Count'>"
      ]
     },
     "execution_count": 37,
     "metadata": {},
     "output_type": "execute_result"
    },
    {
     "data": {
      "image/png": "[encoded data removed]",
      "text/plain": [
       "<Figure size 432x288 with 1 Axes>"
      ]
     },
     "metadata": {
      "needs_background": "light"
     },
     "output_type": "display_data"
    }
   ],
   "source": [
    "sns.histplot(data=df,x='RestingECG',hue='HeartDisease')"
   ]
  },
  {
   "cell_type": "code",
   "execution_count": 38,
   "metadata": {
    "id": "A_RQimXgyslC"
   },
   "outputs": [
    {
     "data": {
      "text/plain": [
       "<AxesSubplot:xlabel='ExerciseAngina', ylabel='Count'>"
      ]
     },
     "execution_count": 38,
     "metadata": {},
     "output_type": "execute_result"
    },
    {
     "data": {
      "image/png": "[encoded data removed]",
      "text/plain": [
       "<Figure size 432x288 with 1 Axes>"
      ]
     },
     "metadata": {
      "needs_background": "light"
     },
     "output_type": "display_data"
    }
   ],
   "source": [
    "sns.histplot(data=df,x='ExerciseAngina',hue='HeartDisease')"
   ]
  },
  {
   "cell_type": "code",
   "execution_count": 39,
   "metadata": {
    "id": "411Yf4iUyslC"
   },
   "outputs": [
    {
     "data": {
      "text/plain": [
       "<AxesSubplot:xlabel='ST_Slope', ylabel='Count'>"
      ]
     },
     "execution_count": 39,
     "metadata": {},
     "output_type": "execute_result"
    },
    {
     "data": {
      "image/png": "[encoded data removed]",
      "text/plain": [
       "<Figure size 432x288 with 1 Axes>"
      ]
     },
     "metadata": {
      "needs_background": "light"
     },
     "output_type": "display_data"
    }
   ],
   "source": [
    "sns.histplot(data=df,x='ST_Slope',hue='HeartDisease')"
   ]
  },
  {
   "cell_type": "markdown",
   "metadata": {
    "id": "IApmHWZvyslC"
   },
   "source": [
    "##  Feature Engineering"
   ]
  },
  {
   "cell_type": "code",
   "execution_count": 40,
   "metadata": {
    "id": "DpwaI8pByslC"
   },
   "outputs": [],
   "source": [
    "x=df.iloc[:,:-1]\n",
    "y=df.iloc[:,-1]"
   ]
  },
  {
   "cell_type": "markdown",
   "metadata": {
    "id": "FYnDANNtyslD"
   },
   "source": [
    "# Training of Model"
   ]
  },
  {
   "cell_type": "code",
   "execution_count": 41,
   "metadata": {
    "id": "MDUzUYZKyslD"
   },
   "outputs": [],
   "source": [
    "xtrain,xtest,ytrain,ytest=train_test_split(x,y,test_size=0.3)"
   ]
  },
  {
   "cell_type": "code",
   "execution_count": 42,
   "metadata": {
    "id": "4j1JUppByslD"
   },
   "outputs": [
    {
     "data": {
      "text/html": [
       "<div>\n",
       "<style scoped>\n",
       "    .dataframe tbody tr th:only-of-type {\n",
       "        vertical-align: middle;\n",
       "    }\n",
       "\n",
       "    .dataframe tbody tr th {\n",
       "        vertical-align: top;\n",
       "    }\n",
       "\n",
       "    .dataframe thead th {\n",
       "        text-align: right;\n",
       "    }\n",
       "</style>\n",
       "<table border=\"1\" class=\"dataframe\">\n",
       "  <thead>\n",
       "    <tr style=\"text-align: right;\">\n",
       "      <th></th>\n",
       "      <th>Age</th>\n",
       "      <th>Sex</th>\n",
       "      <th>ChestPainType</th>\n",
       "      <th>RestingBP</th>\n",
       "      <th>Cholesterol</th>\n",
       "      <th>FastingBS</th>\n",
       "      <th>RestingECG</th>\n",
       "      <th>MaxHR</th>\n",
       "      <th>ExerciseAngina</th>\n",
       "      <th>Oldpeak</th>\n",
       "      <th>ST_Slope</th>\n",
       "    </tr>\n",
       "  </thead>\n",
       "  <tbody>\n",
       "    <tr>\n",
       "      <th>801</th>\n",
       "      <td>56</td>\n",
       "      <td>M</td>\n",
       "      <td>ASY</td>\n",
       "      <td>132</td>\n",
       "      <td>184</td>\n",
       "      <td>0</td>\n",
       "      <td>LVH</td>\n",
       "      <td>105</td>\n",
       "      <td>Y</td>\n",
       "      <td>2.1</td>\n",
       "      <td>Flat</td>\n",
       "    </tr>\n",
       "    <tr>\n",
       "      <th>158</th>\n",
       "      <td>44</td>\n",
       "      <td>M</td>\n",
       "      <td>ASY</td>\n",
       "      <td>130</td>\n",
       "      <td>290</td>\n",
       "      <td>0</td>\n",
       "      <td>Normal</td>\n",
       "      <td>100</td>\n",
       "      <td>Y</td>\n",
       "      <td>2.0</td>\n",
       "      <td>Flat</td>\n",
       "    </tr>\n",
       "    <tr>\n",
       "      <th>596</th>\n",
       "      <td>57</td>\n",
       "      <td>M</td>\n",
       "      <td>ASY</td>\n",
       "      <td>122</td>\n",
       "      <td>264</td>\n",
       "      <td>0</td>\n",
       "      <td>LVH</td>\n",
       "      <td>100</td>\n",
       "      <td>N</td>\n",
       "      <td>0.0</td>\n",
       "      <td>Flat</td>\n",
       "    </tr>\n",
       "    <tr>\n",
       "      <th>816</th>\n",
       "      <td>58</td>\n",
       "      <td>M</td>\n",
       "      <td>ASY</td>\n",
       "      <td>125</td>\n",
       "      <td>300</td>\n",
       "      <td>0</td>\n",
       "      <td>LVH</td>\n",
       "      <td>171</td>\n",
       "      <td>N</td>\n",
       "      <td>0.0</td>\n",
       "      <td>Up</td>\n",
       "    </tr>\n",
       "    <tr>\n",
       "      <th>132</th>\n",
       "      <td>56</td>\n",
       "      <td>M</td>\n",
       "      <td>ASY</td>\n",
       "      <td>170</td>\n",
       "      <td>388</td>\n",
       "      <td>0</td>\n",
       "      <td>ST</td>\n",
       "      <td>122</td>\n",
       "      <td>Y</td>\n",
       "      <td>2.0</td>\n",
       "      <td>Flat</td>\n",
       "    </tr>\n",
       "  </tbody>\n",
       "</table>\n",
       "</div>"
      ],
      "text/plain": [
       "     Age Sex ChestPainType  RestingBP  Cholesterol  FastingBS RestingECG  \\\n",
       "801   56   M           ASY        132          184          0        LVH   \n",
       "158   44   M           ASY        130          290          0     Normal   \n",
       "596   57   M           ASY        122          264          0        LVH   \n",
       "816   58   M           ASY        125          300          0        LVH   \n",
       "132   56   M           ASY        170          388          0         ST   \n",
       "\n",
       "     MaxHR ExerciseAngina  Oldpeak ST_Slope  \n",
       "801    105              Y      2.1     Flat  \n",
       "158    100              Y      2.0     Flat  \n",
       "596    100              N      0.0     Flat  \n",
       "816    171              N      0.0       Up  \n",
       "132    122              Y      2.0     Flat  "
      ]
     },
     "execution_count": 42,
     "metadata": {},
     "output_type": "execute_result"
    }
   ],
   "source": [
    "xtrain.head()"
   ]
  },
  {
   "cell_type": "code",
   "execution_count": 43,
   "metadata": {
    "id": "-KMu1zEqyslD"
   },
   "outputs": [
    {
     "data": {
      "text/html": [
       "<div>\n",
       "<style scoped>\n",
       "    .dataframe tbody tr th:only-of-type {\n",
       "        vertical-align: middle;\n",
       "    }\n",
       "\n",
       "    .dataframe tbody tr th {\n",
       "        vertical-align: top;\n",
       "    }\n",
       "\n",
       "    .dataframe thead th {\n",
       "        text-align: right;\n",
       "    }\n",
       "</style>\n",
       "<table border=\"1\" class=\"dataframe\">\n",
       "  <thead>\n",
       "    <tr style=\"text-align: right;\">\n",
       "      <th></th>\n",
       "      <th>Age</th>\n",
       "      <th>Sex</th>\n",
       "      <th>ChestPainType</th>\n",
       "      <th>RestingBP</th>\n",
       "      <th>Cholesterol</th>\n",
       "      <th>FastingBS</th>\n",
       "      <th>RestingECG</th>\n",
       "      <th>MaxHR</th>\n",
       "      <th>ExerciseAngina</th>\n",
       "      <th>Oldpeak</th>\n",
       "      <th>ST_Slope</th>\n",
       "    </tr>\n",
       "  </thead>\n",
       "  <tbody>\n",
       "    <tr>\n",
       "      <th>503</th>\n",
       "      <td>51</td>\n",
       "      <td>M</td>\n",
       "      <td>ASY</td>\n",
       "      <td>132</td>\n",
       "      <td>227</td>\n",
       "      <td>1</td>\n",
       "      <td>ST</td>\n",
       "      <td>138</td>\n",
       "      <td>N</td>\n",
       "      <td>0.2</td>\n",
       "      <td>Up</td>\n",
       "    </tr>\n",
       "    <tr>\n",
       "      <th>771</th>\n",
       "      <td>55</td>\n",
       "      <td>M</td>\n",
       "      <td>ASY</td>\n",
       "      <td>140</td>\n",
       "      <td>217</td>\n",
       "      <td>0</td>\n",
       "      <td>Normal</td>\n",
       "      <td>111</td>\n",
       "      <td>Y</td>\n",
       "      <td>5.6</td>\n",
       "      <td>Down</td>\n",
       "    </tr>\n",
       "    <tr>\n",
       "      <th>815</th>\n",
       "      <td>68</td>\n",
       "      <td>M</td>\n",
       "      <td>NAP</td>\n",
       "      <td>118</td>\n",
       "      <td>277</td>\n",
       "      <td>0</td>\n",
       "      <td>Normal</td>\n",
       "      <td>151</td>\n",
       "      <td>N</td>\n",
       "      <td>1.0</td>\n",
       "      <td>Up</td>\n",
       "    </tr>\n",
       "    <tr>\n",
       "      <th>888</th>\n",
       "      <td>52</td>\n",
       "      <td>M</td>\n",
       "      <td>ASY</td>\n",
       "      <td>128</td>\n",
       "      <td>204</td>\n",
       "      <td>1</td>\n",
       "      <td>Normal</td>\n",
       "      <td>156</td>\n",
       "      <td>Y</td>\n",
       "      <td>1.0</td>\n",
       "      <td>Flat</td>\n",
       "    </tr>\n",
       "    <tr>\n",
       "      <th>227</th>\n",
       "      <td>38</td>\n",
       "      <td>M</td>\n",
       "      <td>ASY</td>\n",
       "      <td>92</td>\n",
       "      <td>117</td>\n",
       "      <td>0</td>\n",
       "      <td>Normal</td>\n",
       "      <td>134</td>\n",
       "      <td>Y</td>\n",
       "      <td>2.5</td>\n",
       "      <td>Flat</td>\n",
       "    </tr>\n",
       "  </tbody>\n",
       "</table>\n",
       "</div>"
      ],
      "text/plain": [
       "     Age Sex ChestPainType  RestingBP  Cholesterol  FastingBS RestingECG  \\\n",
       "503   51   M           ASY        132          227          1         ST   \n",
       "771   55   M           ASY        140          217          0     Normal   \n",
       "815   68   M           NAP        118          277          0     Normal   \n",
       "888   52   M           ASY        128          204          1     Normal   \n",
       "227   38   M           ASY         92          117          0     Normal   \n",
       "\n",
       "     MaxHR ExerciseAngina  Oldpeak ST_Slope  \n",
       "503    138              N      0.2       Up  \n",
       "771    111              Y      5.6     Down  \n",
       "815    151              N      1.0       Up  \n",
       "888    156              Y      1.0     Flat  \n",
       "227    134              Y      2.5     Flat  "
      ]
     },
     "execution_count": 43,
     "metadata": {},
     "output_type": "execute_result"
    }
   ],
   "source": [
    "xtest.head()"
   ]
  },
  {
   "cell_type": "code",
   "execution_count": 44,
   "metadata": {
    "id": "XQJ1hqk1yslD",
    "scrolled": false
   },
   "outputs": [
    {
     "name": "stderr",
     "output_type": "stream",
     "text": [
      "C:\\Users\\shiva\\AppData\\Local\\Temp/ipykernel_692/1720027803.py:12: SettingWithCopyWarning: \n",
      "A value is trying to be set on a copy of a slice from a DataFrame.\n",
      "Try using .loc[row_indexer,col_indexer] = value instead\n",
      "\n",
      "See the caveats in the documentation: https://pandas.pydata.org/pandas-docs/stable/user_guide/indexing.html#returning-a-view-versus-a-copy\n",
      "  xtrain[i]=obj[i].fit_transform(xtrain[i])\n",
      "C:\\Users\\shiva\\AppData\\Local\\Temp/ipykernel_692/1720027803.py:13: SettingWithCopyWarning: \n",
      "A value is trying to be set on a copy of a slice from a DataFrame.\n",
      "Try using .loc[row_indexer,col_indexer] = value instead\n",
      "\n",
      "See the caveats in the documentation: https://pandas.pydata.org/pandas-docs/stable/user_guide/indexing.html#returning-a-view-versus-a-copy\n",
      "  xtest[i]=obj[i].transform(xtest[i])\n"
     ]
    }
   ],
   "source": [
    "#xtrain=pd.get_dummies(xtrain,columns=categorical_column,drop_first=True)\n",
    "#xtest=pd.get_dummies(xtest,columns=categorical_column,drop_first=True)\n",
    "#LE=LabelEncoder()\n",
    "#xtrain['Sex']=LE.fit_transform(xtrain['Sex'])\n",
    "#xtest['Sex']=LE.transform(xtest['Sex'])\n",
    "obj={}\n",
    "\n",
    "#categorical_column=['Sex','ChestPainType','RestingECG','ExerciseAngina','ST_Slope']\n",
    "for i in categorical_column:\n",
    "    le=LabelEncoder()\n",
    "    obj[i]=le\n",
    "    xtrain[i]=obj[i].fit_transform(xtrain[i])\n",
    "    xtest[i]=obj[i].transform(xtest[i])\n",
    "\n"
   ]
  },
  {
   "cell_type": "code",
   "execution_count": 45,
   "metadata": {
    "id": "CiJlcUEqyslE"
   },
   "outputs": [
    {
     "data": {
      "text/plain": [
       "{'Sex': LabelEncoder(),\n",
       " 'ChestPainType': LabelEncoder(),\n",
       " 'RestingECG': LabelEncoder(),\n",
       " 'ExerciseAngina': LabelEncoder(),\n",
       " 'ST_Slope': LabelEncoder()}"
      ]
     },
     "execution_count": 45,
     "metadata": {},
     "output_type": "execute_result"
    }
   ],
   "source": [
    "obj"
   ]
  },
  {
   "cell_type": "code",
   "execution_count": 46,
   "metadata": {
    "id": "6rmP-pn-yslE"
   },
   "outputs": [
    {
     "name": "stdout",
     "output_type": "stream",
     "text": [
      "(642, 11) (276, 11)\n"
     ]
    }
   ],
   "source": [
    "print(xtrain.shape,xtest.shape)"
   ]
  },
  {
   "cell_type": "code",
   "execution_count": 47,
   "metadata": {
    "id": "59pBfsPbyslE",
    "scrolled": true
   },
   "outputs": [
    {
     "data": {
      "text/html": [
       "<div>\n",
       "<style scoped>\n",
       "    .dataframe tbody tr th:only-of-type {\n",
       "        vertical-align: middle;\n",
       "    }\n",
       "\n",
       "    .dataframe tbody tr th {\n",
       "        vertical-align: top;\n",
       "    }\n",
       "\n",
       "    .dataframe thead th {\n",
       "        text-align: right;\n",
       "    }\n",
       "</style>\n",
       "<table border=\"1\" class=\"dataframe\">\n",
       "  <thead>\n",
       "    <tr style=\"text-align: right;\">\n",
       "      <th></th>\n",
       "      <th>Age</th>\n",
       "      <th>Sex</th>\n",
       "      <th>ChestPainType</th>\n",
       "      <th>RestingBP</th>\n",
       "      <th>Cholesterol</th>\n",
       "      <th>FastingBS</th>\n",
       "      <th>RestingECG</th>\n",
       "      <th>MaxHR</th>\n",
       "      <th>ExerciseAngina</th>\n",
       "      <th>Oldpeak</th>\n",
       "      <th>ST_Slope</th>\n",
       "    </tr>\n",
       "  </thead>\n",
       "  <tbody>\n",
       "    <tr>\n",
       "      <th>801</th>\n",
       "      <td>56</td>\n",
       "      <td>1</td>\n",
       "      <td>0</td>\n",
       "      <td>132</td>\n",
       "      <td>184</td>\n",
       "      <td>0</td>\n",
       "      <td>0</td>\n",
       "      <td>105</td>\n",
       "      <td>1</td>\n",
       "      <td>2.1</td>\n",
       "      <td>1</td>\n",
       "    </tr>\n",
       "    <tr>\n",
       "      <th>158</th>\n",
       "      <td>44</td>\n",
       "      <td>1</td>\n",
       "      <td>0</td>\n",
       "      <td>130</td>\n",
       "      <td>290</td>\n",
       "      <td>0</td>\n",
       "      <td>1</td>\n",
       "      <td>100</td>\n",
       "      <td>1</td>\n",
       "      <td>2.0</td>\n",
       "      <td>1</td>\n",
       "    </tr>\n",
       "    <tr>\n",
       "      <th>596</th>\n",
       "      <td>57</td>\n",
       "      <td>1</td>\n",
       "      <td>0</td>\n",
       "      <td>122</td>\n",
       "      <td>264</td>\n",
       "      <td>0</td>\n",
       "      <td>0</td>\n",
       "      <td>100</td>\n",
       "      <td>0</td>\n",
       "      <td>0.0</td>\n",
       "      <td>1</td>\n",
       "    </tr>\n",
       "    <tr>\n",
       "      <th>816</th>\n",
       "      <td>58</td>\n",
       "      <td>1</td>\n",
       "      <td>0</td>\n",
       "      <td>125</td>\n",
       "      <td>300</td>\n",
       "      <td>0</td>\n",
       "      <td>0</td>\n",
       "      <td>171</td>\n",
       "      <td>0</td>\n",
       "      <td>0.0</td>\n",
       "      <td>2</td>\n",
       "    </tr>\n",
       "    <tr>\n",
       "      <th>132</th>\n",
       "      <td>56</td>\n",
       "      <td>1</td>\n",
       "      <td>0</td>\n",
       "      <td>170</td>\n",
       "      <td>388</td>\n",
       "      <td>0</td>\n",
       "      <td>2</td>\n",
       "      <td>122</td>\n",
       "      <td>1</td>\n",
       "      <td>2.0</td>\n",
       "      <td>1</td>\n",
       "    </tr>\n",
       "  </tbody>\n",
       "</table>\n",
       "</div>"
      ],
      "text/plain": [
       "     Age  Sex  ChestPainType  RestingBP  Cholesterol  FastingBS  RestingECG  \\\n",
       "801   56    1              0        132          184          0           0   \n",
       "158   44    1              0        130          290          0           1   \n",
       "596   57    1              0        122          264          0           0   \n",
       "816   58    1              0        125          300          0           0   \n",
       "132   56    1              0        170          388          0           2   \n",
       "\n",
       "     MaxHR  ExerciseAngina  Oldpeak  ST_Slope  \n",
       "801    105               1      2.1         1  \n",
       "158    100               1      2.0         1  \n",
       "596    100               0      0.0         1  \n",
       "816    171               0      0.0         2  \n",
       "132    122               1      2.0         1  "
      ]
     },
     "execution_count": 47,
     "metadata": {},
     "output_type": "execute_result"
    }
   ],
   "source": [
    "xtrain.head()"
   ]
  },
  {
   "cell_type": "code",
   "execution_count": 48,
   "metadata": {
    "id": "b99wV1lLyslE"
   },
   "outputs": [
    {
     "data": {
      "text/html": [
       "<div>\n",
       "<style scoped>\n",
       "    .dataframe tbody tr th:only-of-type {\n",
       "        vertical-align: middle;\n",
       "    }\n",
       "\n",
       "    .dataframe tbody tr th {\n",
       "        vertical-align: top;\n",
       "    }\n",
       "\n",
       "    .dataframe thead th {\n",
       "        text-align: right;\n",
       "    }\n",
       "</style>\n",
       "<table border=\"1\" class=\"dataframe\">\n",
       "  <thead>\n",
       "    <tr style=\"text-align: right;\">\n",
       "      <th></th>\n",
       "      <th>Age</th>\n",
       "      <th>Sex</th>\n",
       "      <th>ChestPainType</th>\n",
       "      <th>RestingBP</th>\n",
       "      <th>Cholesterol</th>\n",
       "      <th>FastingBS</th>\n",
       "      <th>RestingECG</th>\n",
       "      <th>MaxHR</th>\n",
       "      <th>ExerciseAngina</th>\n",
       "      <th>Oldpeak</th>\n",
       "      <th>ST_Slope</th>\n",
       "    </tr>\n",
       "  </thead>\n",
       "  <tbody>\n",
       "    <tr>\n",
       "      <th>503</th>\n",
       "      <td>51</td>\n",
       "      <td>1</td>\n",
       "      <td>0</td>\n",
       "      <td>132</td>\n",
       "      <td>227</td>\n",
       "      <td>1</td>\n",
       "      <td>2</td>\n",
       "      <td>138</td>\n",
       "      <td>0</td>\n",
       "      <td>0.2</td>\n",
       "      <td>2</td>\n",
       "    </tr>\n",
       "    <tr>\n",
       "      <th>771</th>\n",
       "      <td>55</td>\n",
       "      <td>1</td>\n",
       "      <td>0</td>\n",
       "      <td>140</td>\n",
       "      <td>217</td>\n",
       "      <td>0</td>\n",
       "      <td>1</td>\n",
       "      <td>111</td>\n",
       "      <td>1</td>\n",
       "      <td>5.6</td>\n",
       "      <td>0</td>\n",
       "    </tr>\n",
       "    <tr>\n",
       "      <th>815</th>\n",
       "      <td>68</td>\n",
       "      <td>1</td>\n",
       "      <td>2</td>\n",
       "      <td>118</td>\n",
       "      <td>277</td>\n",
       "      <td>0</td>\n",
       "      <td>1</td>\n",
       "      <td>151</td>\n",
       "      <td>0</td>\n",
       "      <td>1.0</td>\n",
       "      <td>2</td>\n",
       "    </tr>\n",
       "    <tr>\n",
       "      <th>888</th>\n",
       "      <td>52</td>\n",
       "      <td>1</td>\n",
       "      <td>0</td>\n",
       "      <td>128</td>\n",
       "      <td>204</td>\n",
       "      <td>1</td>\n",
       "      <td>1</td>\n",
       "      <td>156</td>\n",
       "      <td>1</td>\n",
       "      <td>1.0</td>\n",
       "      <td>1</td>\n",
       "    </tr>\n",
       "    <tr>\n",
       "      <th>227</th>\n",
       "      <td>38</td>\n",
       "      <td>1</td>\n",
       "      <td>0</td>\n",
       "      <td>92</td>\n",
       "      <td>117</td>\n",
       "      <td>0</td>\n",
       "      <td>1</td>\n",
       "      <td>134</td>\n",
       "      <td>1</td>\n",
       "      <td>2.5</td>\n",
       "      <td>1</td>\n",
       "    </tr>\n",
       "  </tbody>\n",
       "</table>\n",
       "</div>"
      ],
      "text/plain": [
       "     Age  Sex  ChestPainType  RestingBP  Cholesterol  FastingBS  RestingECG  \\\n",
       "503   51    1              0        132          227          1           2   \n",
       "771   55    1              0        140          217          0           1   \n",
       "815   68    1              2        118          277          0           1   \n",
       "888   52    1              0        128          204          1           1   \n",
       "227   38    1              0         92          117          0           1   \n",
       "\n",
       "     MaxHR  ExerciseAngina  Oldpeak  ST_Slope  \n",
       "503    138               0      0.2         2  \n",
       "771    111               1      5.6         0  \n",
       "815    151               0      1.0         2  \n",
       "888    156               1      1.0         1  \n",
       "227    134               1      2.5         1  "
      ]
     },
     "execution_count": 48,
     "metadata": {},
     "output_type": "execute_result"
    }
   ],
   "source": [
    "xtest.head()"
   ]
  },
  {
   "cell_type": "code",
   "execution_count": 49,
   "metadata": {
    "id": "Z59NXHvAyslF"
   },
   "outputs": [],
   "source": [
    "sc=StandardScaler()\n",
    "x_train_scaled=sc.fit_transform(xtrain)\n",
    "x_test_scaled=sc.fit_transform(xtest)\n"
   ]
  },
  {
   "cell_type": "code",
   "execution_count": 50,
   "metadata": {
    "id": "29YfBeHdyslF"
   },
   "outputs": [
    {
     "data": {
      "text/plain": [
       "array([[ 0.29600495,  0.51117185, -0.8315057 , ...,  1.22793017,\n",
       "         1.22148071, -0.59360286],\n",
       "       [-1.00116351,  0.51117185, -0.8315057 , ...,  1.22793017,\n",
       "         1.12496494, -0.59360286],\n",
       "       [ 0.40410232,  0.51117185, -0.8315057 , ..., -0.81437856,\n",
       "        -0.80535042, -0.59360286],\n",
       "       ...,\n",
       "       [ 0.18790758,  0.51117185, -0.8315057 , ...,  1.22793017,\n",
       "         0.83541764, -2.24335624],\n",
       "       [ 0.72839444,  0.51117185, -0.8315057 , ...,  1.22793017,\n",
       "        -0.32277158, -0.59360286],\n",
       "       [ 1.05268655,  0.51117185, -0.8315057 , ...,  1.22793017,\n",
       "         1.60754378, -2.24335624]])"
      ]
     },
     "execution_count": 50,
     "metadata": {},
     "output_type": "execute_result"
    }
   ],
   "source": [
    "x_train_scaled"
   ]
  },
  {
   "cell_type": "code",
   "execution_count": 51,
   "metadata": {
    "id": "t1dSMuAMyslF"
   },
   "outputs": [
    {
     "data": {
      "text/html": [
       "<div>\n",
       "<style scoped>\n",
       "    .dataframe tbody tr th:only-of-type {\n",
       "        vertical-align: middle;\n",
       "    }\n",
       "\n",
       "    .dataframe tbody tr th {\n",
       "        vertical-align: top;\n",
       "    }\n",
       "\n",
       "    .dataframe thead th {\n",
       "        text-align: right;\n",
       "    }\n",
       "</style>\n",
       "<table border=\"1\" class=\"dataframe\">\n",
       "  <thead>\n",
       "    <tr style=\"text-align: right;\">\n",
       "      <th></th>\n",
       "      <th>Age</th>\n",
       "      <th>Sex</th>\n",
       "      <th>ChestPainType</th>\n",
       "      <th>RestingBP</th>\n",
       "      <th>Cholesterol</th>\n",
       "      <th>FastingBS</th>\n",
       "      <th>RestingECG</th>\n",
       "      <th>MaxHR</th>\n",
       "      <th>ExerciseAngina</th>\n",
       "      <th>Oldpeak</th>\n",
       "      <th>ST_Slope</th>\n",
       "    </tr>\n",
       "  </thead>\n",
       "  <tbody>\n",
       "    <tr>\n",
       "      <th>0</th>\n",
       "      <td>0.296005</td>\n",
       "      <td>0.511172</td>\n",
       "      <td>-0.831506</td>\n",
       "      <td>-0.009811</td>\n",
       "      <td>-0.130499</td>\n",
       "      <td>-0.554559</td>\n",
       "      <td>-1.506339</td>\n",
       "      <td>-1.263179</td>\n",
       "      <td>1.227930</td>\n",
       "      <td>1.221481</td>\n",
       "      <td>-0.593603</td>\n",
       "    </tr>\n",
       "    <tr>\n",
       "      <th>1</th>\n",
       "      <td>-1.001164</td>\n",
       "      <td>0.511172</td>\n",
       "      <td>-0.831506</td>\n",
       "      <td>-0.120313</td>\n",
       "      <td>0.847123</td>\n",
       "      <td>-0.554559</td>\n",
       "      <td>0.045940</td>\n",
       "      <td>-1.462697</td>\n",
       "      <td>1.227930</td>\n",
       "      <td>1.124965</td>\n",
       "      <td>-0.593603</td>\n",
       "    </tr>\n",
       "    <tr>\n",
       "      <th>2</th>\n",
       "      <td>0.404102</td>\n",
       "      <td>0.511172</td>\n",
       "      <td>-0.831506</td>\n",
       "      <td>-0.562323</td>\n",
       "      <td>0.607329</td>\n",
       "      <td>-0.554559</td>\n",
       "      <td>-1.506339</td>\n",
       "      <td>-1.462697</td>\n",
       "      <td>-0.814379</td>\n",
       "      <td>-0.805350</td>\n",
       "      <td>-0.593603</td>\n",
       "    </tr>\n",
       "    <tr>\n",
       "      <th>3</th>\n",
       "      <td>0.512200</td>\n",
       "      <td>0.511172</td>\n",
       "      <td>-0.831506</td>\n",
       "      <td>-0.396570</td>\n",
       "      <td>0.939352</td>\n",
       "      <td>-0.554559</td>\n",
       "      <td>-1.506339</td>\n",
       "      <td>1.370459</td>\n",
       "      <td>-0.814379</td>\n",
       "      <td>-0.805350</td>\n",
       "      <td>1.056151</td>\n",
       "    </tr>\n",
       "    <tr>\n",
       "      <th>4</th>\n",
       "      <td>0.296005</td>\n",
       "      <td>0.511172</td>\n",
       "      <td>-0.831506</td>\n",
       "      <td>2.089736</td>\n",
       "      <td>1.750963</td>\n",
       "      <td>-0.554559</td>\n",
       "      <td>1.598218</td>\n",
       "      <td>-0.584818</td>\n",
       "      <td>1.227930</td>\n",
       "      <td>1.124965</td>\n",
       "      <td>-0.593603</td>\n",
       "    </tr>\n",
       "  </tbody>\n",
       "</table>\n",
       "</div>"
      ],
      "text/plain": [
       "        Age       Sex  ChestPainType  RestingBP  Cholesterol  FastingBS  \\\n",
       "0  0.296005  0.511172      -0.831506  -0.009811    -0.130499  -0.554559   \n",
       "1 -1.001164  0.511172      -0.831506  -0.120313     0.847123  -0.554559   \n",
       "2  0.404102  0.511172      -0.831506  -0.562323     0.607329  -0.554559   \n",
       "3  0.512200  0.511172      -0.831506  -0.396570     0.939352  -0.554559   \n",
       "4  0.296005  0.511172      -0.831506   2.089736     1.750963  -0.554559   \n",
       "\n",
       "   RestingECG     MaxHR  ExerciseAngina   Oldpeak  ST_Slope  \n",
       "0   -1.506339 -1.263179        1.227930  1.221481 -0.593603  \n",
       "1    0.045940 -1.462697        1.227930  1.124965 -0.593603  \n",
       "2   -1.506339 -1.462697       -0.814379 -0.805350 -0.593603  \n",
       "3   -1.506339  1.370459       -0.814379 -0.805350  1.056151  \n",
       "4    1.598218 -0.584818        1.227930  1.124965 -0.593603  "
      ]
     },
     "execution_count": 51,
     "metadata": {},
     "output_type": "execute_result"
    }
   ],
   "source": [
    "xtrain=pd.DataFrame(x_train_scaled,columns=xtrain.columns[:])\n",
    "xtest=pd.DataFrame(x_test_scaled,columns=xtest.columns[:])\n",
    "xtrain.head()"
   ]
  },
  {
   "cell_type": "code",
   "execution_count": 52,
   "metadata": {
    "id": "zLLhvjxkyslF"
   },
   "outputs": [],
   "source": [
    "m1=LogisticRegression()\n",
    "m2=RidgeClassifier(alpha=0.25)\n",
    "m3=DecisionTreeClassifier(criterion='gini',max_depth=5)\n",
    "m4=RandomForestClassifier(criterion='gini',n_estimators=50)\n",
    "m5=AdaBoostClassifier(algorithm='SAMME',learning_rate=0.1,n_estimators=150)\n",
    "m6=GradientBoostingClassifier(criterion='friedman_mse',learning_rate=0.05,n_estimators=100)\n",
    "m7=XGBClassifier(learning_rate=0.1,n_estimators=50)\n",
    "m8=KNeighborsClassifier(n_neighbors=7)\n"
   ]
  },
  {
   "cell_type": "code",
   "execution_count": 53,
   "metadata": {
    "id": "LD7mB7UByslG"
   },
   "outputs": [],
   "source": [
    "dictionary={'Logistic Regression':m1,'Ridge':m2,'Decision Tree':m3,'Random Forest':m4,'Ada Booster':m5,'Gradient Boost':m6,'XGB boost':m7,'KNN':m8}\n"
   ]
  },
  {
   "cell_type": "code",
   "execution_count": 58,
   "metadata": {
    "id": "nRlEIMS7yslG"
   },
   "outputs": [
    {
     "name": "stdout",
     "output_type": "stream",
     "text": [
      "Model Name:  Logistic Regression\n",
      "Accuracy:  0.8043478260869565\n",
      "\n",
      "              precision    recall  f1-score   support\n",
      "\n",
      "           0       0.75      0.81      0.78       116\n",
      "           1       0.85      0.80      0.83       160\n",
      "\n",
      "    accuracy                           0.80       276\n",
      "   macro avg       0.80      0.81      0.80       276\n",
      "weighted avg       0.81      0.80      0.81       276\n",
      "\n",
      "Confusion Matrix: \n",
      " [[ 94  22]\n",
      " [ 32 128]]\n",
      "##################################################################\n",
      "Model Name:  Ridge\n",
      "Accuracy:  0.7971014492753623\n",
      "\n",
      "              precision    recall  f1-score   support\n",
      "\n",
      "           0       0.73      0.82      0.77       116\n",
      "           1       0.86      0.78      0.82       160\n",
      "\n",
      "    accuracy                           0.80       276\n",
      "   macro avg       0.79      0.80      0.79       276\n",
      "weighted avg       0.80      0.80      0.80       276\n",
      "\n",
      "Confusion Matrix: \n",
      " [[ 95  21]\n",
      " [ 35 125]]\n",
      "##################################################################\n",
      "Model Name:  Decision Tree\n",
      "Accuracy:  0.8369565217391305\n",
      "\n",
      "              precision    recall  f1-score   support\n",
      "\n",
      "           0       0.80      0.81      0.81       116\n",
      "           1       0.86      0.86      0.86       160\n",
      "\n",
      "    accuracy                           0.84       276\n",
      "   macro avg       0.83      0.83      0.83       276\n",
      "weighted avg       0.84      0.84      0.84       276\n",
      "\n",
      "Confusion Matrix: \n",
      " [[ 94  22]\n",
      " [ 23 137]]\n",
      "##################################################################\n",
      "Model Name:  Random Forest\n",
      "Accuracy:  0.8369565217391305\n",
      "\n",
      "              precision    recall  f1-score   support\n",
      "\n",
      "           0       0.80      0.82      0.81       116\n",
      "           1       0.87      0.85      0.86       160\n",
      "\n",
      "    accuracy                           0.84       276\n",
      "   macro avg       0.83      0.83      0.83       276\n",
      "weighted avg       0.84      0.84      0.84       276\n",
      "\n",
      "Confusion Matrix: \n",
      " [[ 95  21]\n",
      " [ 24 136]]\n",
      "##################################################################\n",
      "Model Name:  Ada Booster\n",
      "Accuracy:  0.822463768115942\n",
      "\n",
      "              precision    recall  f1-score   support\n",
      "\n",
      "           0       0.77      0.82      0.79       116\n",
      "           1       0.86      0.82      0.84       160\n",
      "\n",
      "    accuracy                           0.82       276\n",
      "   macro avg       0.82      0.82      0.82       276\n",
      "weighted avg       0.82      0.82      0.82       276\n",
      "\n",
      "Confusion Matrix: \n",
      " [[ 95  21]\n",
      " [ 28 132]]\n",
      "##################################################################\n",
      "Model Name:  Gradient Boost\n",
      "Accuracy:  0.8514492753623188\n",
      "\n",
      "              precision    recall  f1-score   support\n",
      "\n",
      "           0       0.83      0.82      0.82       116\n",
      "           1       0.87      0.88      0.87       160\n",
      "\n",
      "    accuracy                           0.85       276\n",
      "   macro avg       0.85      0.85      0.85       276\n",
      "weighted avg       0.85      0.85      0.85       276\n",
      "\n",
      "Confusion Matrix: \n",
      " [[ 95  21]\n",
      " [ 20 140]]\n",
      "##################################################################\n"
     ]
    },
    {
     "name": "stderr",
     "output_type": "stream",
     "text": [
      "D:\\SoftwareInstalled\\Anaconda\\lib\\site-packages\\xgboost\\sklearn.py:1224: UserWarning: The use of label encoder in XGBClassifier is deprecated and will be removed in a future release. To remove this warning, do the following: 1) Pass option use_label_encoder=False when constructing XGBClassifier object; and 2) Encode your labels (y) as integers starting with 0, i.e. 0, 1, 2, ..., [num_class - 1].\n",
      "  warnings.warn(label_encoder_deprecation_msg, UserWarning)\n"
     ]
    },
    {
     "name": "stdout",
     "output_type": "stream",
     "text": [
      "[15:41:32] WARNING: C:/Users/Administrator/workspace/xgboost-win64_release_1.5.1/src/learner.cc:1115: Starting in XGBoost 1.3.0, the default evaluation metric used with the objective 'binary:logistic' was changed from 'error' to 'logloss'. Explicitly set eval_metric if you'd like to restore the old behavior.\n",
      "Model Name:  XGB boost\n",
      "Accuracy:  0.8297101449275363\n",
      "\n",
      "              precision    recall  f1-score   support\n",
      "\n",
      "           0       0.80      0.79      0.80       116\n",
      "           1       0.85      0.86      0.85       160\n",
      "\n",
      "    accuracy                           0.83       276\n",
      "   macro avg       0.83      0.82      0.83       276\n",
      "weighted avg       0.83      0.83      0.83       276\n",
      "\n",
      "Confusion Matrix: \n",
      " [[ 92  24]\n",
      " [ 23 137]]\n",
      "##################################################################\n",
      "Model Name:  KNN\n",
      "Accuracy:  0.8043478260869565\n",
      "\n",
      "              precision    recall  f1-score   support\n",
      "\n",
      "           0       0.74      0.83      0.78       116\n",
      "           1       0.86      0.79      0.82       160\n",
      "\n",
      "    accuracy                           0.80       276\n",
      "   macro avg       0.80      0.81      0.80       276\n",
      "weighted avg       0.81      0.80      0.81       276\n",
      "\n",
      "Confusion Matrix: \n",
      " [[ 96  20]\n",
      " [ 34 126]]\n",
      "##################################################################\n"
     ]
    }
   ],
   "source": [
    "best=0\n",
    "bestName='Logistic Regression'\n",
    "ScoreName={}\n",
    "for i in dictionary.keys():\n",
    "    model=dictionary[i]\n",
    "    model.fit(xtrain,ytrain)\n",
    "    pred=model.predict(xtest)\n",
    "    score=model.score(xtest,ytest)\n",
    "    print(\"Model Name: \",i)\n",
    "    print(\"Accuracy: \",accuracy_score(ytest,pred))\n",
    "    print()\n",
    "    print(classification_report(ytest,pred))\n",
    "    print('Confusion Matrix: \\n',confusion_matrix(ytest,pred))\n",
    "    print('##################################################################')\n",
    "    if(score>best):\n",
    "        best=score\n",
    "        bestName=i\n",
    "    ScoreName[i]=score"
   ]
  },
  {
   "cell_type": "code",
   "execution_count": 59,
   "metadata": {
    "id": "RfNr7hiwyslG"
   },
   "outputs": [
    {
     "name": "stdout",
     "output_type": "stream",
     "text": [
      "Maximum Score:  0.8514492753623188\n",
      "Name:  Gradient Boost\n"
     ]
    }
   ],
   "source": [
    "print(\"Maximum Score: \",best)\n",
    "print(\"Name: \",bestName)"
   ]
  },
  {
   "cell_type": "code",
   "execution_count": 60,
   "metadata": {
    "id": "xDizO7qhyslH"
   },
   "outputs": [
    {
     "data": {
      "text/plain": [
       "{'Logistic Regression': 0.8043478260869565,\n",
       " 'Ridge': 0.7971014492753623,\n",
       " 'Decision Tree': 0.8369565217391305,\n",
       " 'Random Forest': 0.8369565217391305,\n",
       " 'Ada Booster': 0.822463768115942,\n",
       " 'Gradient Boost': 0.8514492753623188,\n",
       " 'XGB boost': 0.8297101449275363,\n",
       " 'KNN': 0.8043478260869565}"
      ]
     },
     "execution_count": 60,
     "metadata": {},
     "output_type": "execute_result"
    }
   ],
   "source": [
    "ScoreName"
   ]
  },
  {
   "cell_type": "markdown",
   "metadata": {
    "id": "lp2v0Z2gyslH"
   },
   "source": [
    "## Building Model with Best algorithm"
   ]
  },
  {
   "cell_type": "code",
   "execution_count": 61,
   "metadata": {
    "id": "KtxDLq0kyslH"
   },
   "outputs": [
    {
     "data": {
      "text/plain": [
       "GradientBoostingClassifier(learning_rate=0.05)"
      ]
     },
     "execution_count": 61,
     "metadata": {},
     "output_type": "execute_result"
    }
   ],
   "source": [
    "model=dictionary[bestName]\n",
    "model.fit(xtrain,ytrain)\n"
   ]
  },
  {
   "cell_type": "code",
   "execution_count": 62,
   "metadata": {
    "id": "2p5CcachyslH"
   },
   "outputs": [],
   "source": [
    "def Prediction(feature):\n",
    "    #categorical_column=['Sex','ChestPainType','RestingECG','ExerciseAngina','ST_Slope']\n",
    "    # obj dictionary contins objects of all column of Label Encoder(Categorical type)\n",
    "    for i in categorical_column:\n",
    "        feature[i]=obj[i].transform(feature[i])  # LabelEncoder/ Changing Categorical data to numerical form\n",
    "    \n",
    "    feature=sc.transform(feature)    #Standard Scalling\n",
    "    predctValue=model.predict(feature)\n",
    "    print(predctValue)\n",
    "    \n",
    "    return predctValue\n",
    "    "
   ]
  },
  {
   "cell_type": "code",
   "execution_count": 73,
   "metadata": {
    "id": "BvVm12JXyslI"
   },
   "outputs": [],
   "source": [
    "def CheckEntry():\n",
    "    from tkinter import messagebox\n",
    "    if(e1.get() == \"\" or e2.get() == \"\" or e3.get()==\"\" or e4.get()==\"\" or e5.get()==\"\" or e6.get()==\"\" or e7.get()==\"\" or e8.get()==\"\" or e9.get()==\"\" or e10.get()==\"\" or e11.get()==\"\"):\n",
    "        \n",
    "        messagebox.showinfo('Alert','Please provide all information')\n",
    "    \n",
    "    \n",
    "    else:\n",
    "        '''\n",
    "            Age                 int64\n",
    "            Sex                object\n",
    "            ChestPainType      object\n",
    "            RestingBP           int64\n",
    "            Cholesterol         int64\n",
    "            FastingBS           int64\n",
    "            RestingECG         object\n",
    "            MaxHR               int64\n",
    "            ExerciseAngina     object\n",
    "            Oldpeak           float64\n",
    "            ST_Slope           object\n",
    "            HeartDisease        int64\n",
    "        \n",
    "        '''\n",
    "        try:\n",
    "            d={'Age':int(e1.get()),'Sex':e2.get(),'ChestPainType':e3.get(),'RestingBP':int(e4.get()),'Cholesterol':int(e5.get()),'FastingBS':int(e6.get()),'RestingECG':e7.get(),'MaxHR':int(e8.get()),'ExerciseAngina':e9.get(),'Oldpeak':float(e10.get()),'ST_Slope':e11.get()}\n",
    "            feature=pd.DataFrame(data=d,index=np.array([0]))\n",
    "        \n",
    "            predctValue=Prediction(feature)\n",
    "            if predctValue==0:\n",
    "                messagebox.showinfo('Result','Good News!........... \\n You are Safe You')\n",
    "            else:\n",
    "                messagebox.showinfo('Result','You need treatmeant,\\n There is a possibility of your hear failure, Take care')\n",
    "        except:\n",
    "            messagebox.showinfo('Incorrect data format....','Please provide data in folling format: \\n Age                 int64 \\nSex                object \\nChestPainType      object \\nRestingBP           int64 \\nCholesterol         int64 \\nFastingBS           int64 \\nRestingECG         object \\nMaxHR               int64 \\nExerciseAngina     object \\nOldpeak           float64 \\nST_Slope           object \\nHeartDisease        int64 ')\n",
    "            "
   ]
  },
  {
   "cell_type": "code",
   "execution_count": null,
   "metadata": {
    "id": "O_yxISw0yslI"
   },
   "outputs": [],
   "source": []
  },
  {
   "cell_type": "code",
   "execution_count": 74,
   "metadata": {
    "id": "SUml2HedyslI"
   },
   "outputs": [],
   "source": [
    "import tkinter as tk\n",
    "win=tk.Tk()\n",
    "win.title('Heart Disease Prediction')\n",
    "\n",
    "win.geometry(\"650x500+500+200\")\n",
    "win.attributes('-alpha',1)\n",
    "\n",
    "#win.iconbitmap('heartdisease.ico')\n",
    "win.configure(bg='cyan')\n",
    "\n",
    "\n",
    "tk.Label(win,text='                                                      ',bg='cyan',fg='cyan').grid(column=0)\n",
    "tk.Label(win,text='Age',bg='cyan').grid(row=0,column=1)\n",
    "e1=tk.Entry(win)\n",
    "e1.grid(row=0,column=2)\n",
    "\n",
    "tk.Label(win,text='Sex',bg='cyan').grid(row=1,column=1)\n",
    "e2=tk.Entry(win)\n",
    "e2.grid(row=1,column=2)\n",
    "\n",
    "tk.Label(win,text='ChestPainType',bg='cyan').grid(row=2,column=1)\n",
    "e3=tk.Entry(win)\n",
    "e3.grid(row=2,column=2)\n",
    "\n",
    "tk.Label(win,text='RestingBP',bg='cyan').grid(row=3,column=1)\n",
    "e4=tk.Entry(win)\n",
    "e4.grid(row=3,column=2)\n",
    "\n",
    "tk.Label(win,text='Cholesterol',bg='cyan').grid(row=4,column=1)\n",
    "e5=tk.Entry(win)\n",
    "e5.grid(row=4,column=2)\n",
    "\n",
    "tk.Label(win,text='FastingBS',bg='cyan').grid(row=5,column=1)\n",
    "e6=tk.Entry(win)\n",
    "e6.grid(row=5,column=2)\n",
    "\n",
    "tk.Label(win,text='RestingECG',bg='cyan').grid(row=6,column=1)\n",
    "e7=tk.Entry(win)\n",
    "e7.grid(row=6,column=2)\n",
    "\n",
    "tk.Label(win,text='MaxHR',bg='cyan').grid(row=7,column=1)\n",
    "e8=tk.Entry(win)\n",
    "e8.grid(row=7,column=2)\n",
    "\n",
    "tk.Label(win,text='ExerciseAngina',bg='cyan').grid(row=8,column=1)\n",
    "e9=tk.Entry(win)\n",
    "e9.grid(row=8,column=2)\n",
    "\n",
    "tk.Label(win,text='Oldpeak',bg='cyan').grid(row=9,column=1)\n",
    "e10=tk.Entry(win)\n",
    "e10.grid(row=9,column=2)\n",
    "\n",
    "tk.Label(win,text='ST_Slope',bg='cyan').grid(row=10,column=1)\n",
    "e11=tk.Entry(win)\n",
    "e11.grid(row=10,column=2)\n",
    "\n",
    "def HalloCall():\n",
    "    print(\"Hello\")\n",
    "\n",
    "\n",
    "tk.Label(win,text='           ',bg='cyan').grid(row=11)\n",
    "\n",
    "tk.Label(win,text='           ',bg='cyan').grid(row=12)\n",
    "\n",
    "B=tk.Button(win,text=\"Check\",command=CheckEntry,fg='red',activebackground='yellow',activeforeground='pink',bd='5')\n",
    "B.grid(row=15,column=2)\n",
    "\n",
    "tk.Label(win,text=\"We cannot ensure accuracy of 100%\",fg='red',bd=5,bg='cyan').grid(row=17,column=2)\n",
    "\n",
    "win.mainloop()"
   ]
  },
  {
   "cell_type": "code",
   "execution_count": null,
   "metadata": {
    "id": "dbFfwqmcyslJ"
   },
   "outputs": [],
   "source": [
    "model.predict(xtest)"
   ]
  },
  {
   "cell_type": "code",
   "execution_count": null,
   "metadata": {
    "id": "7F0sWJvnyslJ"
   },
   "outputs": [],
   "source": [
    "xtest"
   ]
  },
  {
   "cell_type": "code",
   "execution_count": null,
   "metadata": {
    "id": "cFae9oF3yslJ"
   },
   "outputs": [],
   "source": []
  }
 ],
 "metadata": {
  "colab": {
   "name": "Project-HeartDisease.ipynb",
   "provenance": []
  },
  "kernelspec": {
   "display_name": "Python 3 (ipykernel)",
   "language": "python",
   "name": "python3"
  },
  "language_info": {
   "codemirror_mode": {
    "name": "ipython",
    "version": 3
   },
   "file_extension": ".py",
   "mimetype": "text/x-python",
   "name": "python",
   "nbconvert_exporter": "python",
   "pygments_lexer": "ipython3",
   "version": "3.9.7"
  }
 },
 "nbformat": 4,
 "nbformat_minor": 1
}
